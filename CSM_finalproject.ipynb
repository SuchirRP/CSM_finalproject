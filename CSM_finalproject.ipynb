{
 "cells": [
  {
   "cell_type": "markdown",
   "id": "ae294d7a-39fa-4e39-bd21-8b9e392b2dd0",
   "metadata": {},
   "source": [
    "# Data Collection and PreProcessing"
   ]
  },
  {
   "cell_type": "markdown",
   "id": "2d25d37a-5899-47f9-8741-53b9aa2606bf",
   "metadata": {},
   "source": [
    "## Data Source"
   ]
  },
  {
   "cell_type": "code",
   "execution_count": 4,
   "id": "fecc1174-d780-4761-80c2-967abcf8767c",
   "metadata": {
    "scrolled": true
   },
   "outputs": [
    {
     "name": "stderr",
     "output_type": "stream",
     "text": [
      "[*********************100%***********************]  1 of 1 completed\n",
      "[*********************100%***********************]  1 of 1 completed\n",
      "[*********************100%***********************]  1 of 1 completed\n",
      "[*********************100%***********************]  1 of 1 completed"
     ]
    },
    {
     "name": "stdout",
     "output_type": "stream",
     "text": [
      "Price        Adj Close       Close        High         Low        Open  \\\n",
      "Ticker             IBM         IBM         IBM         IBM         IBM   \n",
      "Date                                                                     \n",
      "2014-08-01  115.999710  180.831741  183.078400  180.554489  182.122375   \n",
      "2014-08-04  116.300217  181.300186  181.596558  180.305923  181.022949   \n",
      "2014-08-05  114.742508  178.871887  180.879547  178.240921  180.449326   \n",
      "2014-08-06  114.724068  177.791580  178.661575  176.328873  177.208420   \n",
      "2014-08-07  113.693855  176.195023  178.470367  175.506699  178.432129   \n",
      "\n",
      "Price        Volume  \n",
      "Ticker          IBM  \n",
      "Date                 \n",
      "2014-08-01  5419431  \n",
      "2014-08-04  2223691  \n",
      "2014-08-05  3460063  \n",
      "2014-08-06  4023962  \n",
      "2014-08-07  2833196  \n",
      "Price       Adj Close      Close       High        Low       Open     Volume\n",
      "Ticker           AAPL       AAPL       AAPL       AAPL       AAPL       AAPL\n",
      "Date                                                                        \n",
      "2014-08-01  21.209675  24.032499  24.155001  23.702499  23.725000  194044000\n",
      "2014-08-04  21.090536  23.897499  24.145000  23.792500  24.092501  159832000\n",
      "2014-08-05  20.986845  23.780001  23.920000  23.590000  23.840000  223732000\n",
      "2014-08-06  20.951542  23.740000  23.870001  23.677500  23.687500  154232000\n",
      "2014-08-07  20.949316  23.620001  23.987499  23.525000  23.732500  186844000\n",
      "Price       Adj Close      Close       High        Low       Open    Volume\n",
      "Ticker           META       META       META       META       META      META\n",
      "Date                                                                       \n",
      "2014-08-01  72.142792  72.360001  73.220001  71.550003  72.220001  43535000\n",
      "2014-08-04  73.289337  73.510002  73.879997  72.360001  72.360001  30777000\n",
      "2014-08-05  72.471794  72.690002  73.589996  72.180000  73.199997  34986000\n",
      "2014-08-06  72.252457  72.470001  73.720001  71.790001  72.019997  30986000\n",
      "2014-08-07  72.950348  73.169998  74.000000  72.699997  73.000000  38141000\n",
      "Price       Adj Close      Close       High        Low     Open    Volume\n",
      "Ticker          GOOGL      GOOGL      GOOGL      GOOGL    GOOGL     GOOGL\n",
      "Date                                                                     \n",
      "2014-08-01  28.609159  28.680000  29.171499  28.514999  28.9275  44266000\n",
      "2014-08-04  29.041590  29.113501  29.191000  28.613001  28.8255  30388000\n",
      "2014-08-05  28.586214  28.657000  29.010000  28.515499  28.9690  32876000\n",
      "2014-08-06  28.653551  28.724501  28.931999  28.372499  28.4750  26456000\n",
      "2014-08-07  28.519880  28.590500  28.915501  28.471500  28.8025  23260000\n"
     ]
    },
    {
     "name": "stderr",
     "output_type": "stream",
     "text": [
      "\n"
     ]
    }
   ],
   "source": [
    "import yfinance as yf\n",
    "from datetime import datetime\n",
    "\n",
    "# Define stock tickers and date range\n",
    "start_date = \"2014-08-01\"\n",
    "end_date = \"2016-11-30\"\n",
    "tickers = ['IBM', 'AAPL', 'META', 'GOOGL']\n",
    "\n",
    "# Download data for each stock\n",
    "for ticker in tickers:\n",
    "    stock_data = yf.download(ticker, start=start_date, end=end_date)\n",
    "    print(stock_data.head())  # Print first few rows\n",
    "    stock_data.to_csv(f'{ticker}_stock.csv')  # Save to CSV\n"
   ]
  },
  {
   "cell_type": "markdown",
   "id": "632ef8e7-5588-403f-a905-2eb44b7ab2a5",
   "metadata": {},
   "source": [
    "## Data Cleaning"
   ]
  },
  {
   "cell_type": "code",
   "execution_count": 5,
   "id": "4e3319a8-a4e7-4e3a-a9bf-0cd255553880",
   "metadata": {},
   "outputs": [
    {
     "name": "stdout",
     "output_type": "stream",
     "text": [
      "Cleaned data saved to IBM_stock_cleaned.csv\n",
      "Cleaned data saved to AAPL_stock_cleaned.csv\n",
      "Cleaned data saved to META_stock_cleaned.csv\n",
      "Cleaned data saved to GOOGL_stock_cleaned.csv\n"
     ]
    }
   ],
   "source": [
    "import pandas as pd\n",
    "\n",
    "# Function to clean individual stock data\n",
    "def clean_stock_data(file_path, output_path):\n",
    "    # Load the dataset\n",
    "    df = pd.read_csv(file_path, index_col=0)\n",
    "    \n",
    "    # Ensure columns are standardized\n",
    "    df.columns = [col.split(' ')[-1] for col in df.columns]\n",
    "    \n",
    "    # Drop unnecessary columns (keeping only essential ones)\n",
    "    df = df[['Open', 'High', 'Low', 'Close', 'Volume']]\n",
    "    \n",
    "    # Handle missing data (drop rows with NaN values)\n",
    "    df = df.dropna()\n",
    "    \n",
    "    # Reset the index and ensure Date column is properly formatted\n",
    "    df.reset_index(inplace=True)\n",
    "    df.rename(columns={\"index\": \"Date\"}, inplace=True)\n",
    "    \n",
    "    # Export the cleaned data to a new CSV\n",
    "    df.to_csv(output_path, index=False)\n",
    "    print(f\"Cleaned data saved to {output_path}\")\n",
    "\n",
    "# Iterate through each stock file and clean the data\n",
    "tickers = ['IBM', 'AAPL', 'META', 'GOOGL']\n",
    "for ticker in tickers:\n",
    "    input_file = f'{ticker}_stock.csv'\n",
    "    output_file = f'{ticker}_stock_cleaned.csv'\n",
    "    clean_stock_data(input_file, output_file)\n"
   ]
  },
  {
   "cell_type": "markdown",
   "id": "20245576-fd57-4e9b-b1dd-b8ffbbe95ea7",
   "metadata": {},
   "source": [
    "## Stationarity Check - Augmented Dickey-Fuller (ADF) Test"
   ]
  },
  {
   "cell_type": "code",
   "execution_count": 7,
   "id": "87e655cd-39f6-4406-9c40-8030a8a5c271",
   "metadata": {},
   "outputs": [
    {
     "ename": "KeyError",
     "evalue": "'Date'",
     "output_type": "error",
     "traceback": [
      "\u001b[0;31m---------------------------------------------------------------------------\u001b[0m",
      "\u001b[0;31mKeyError\u001b[0m                                  Traceback (most recent call last)",
      "File \u001b[0;32m~/Desktop/CollegeStuff/MahindraUniversity/4 - 1/ComputationalSequenceModelling/Assigments/csmass_env/lib/python3.12/site-packages/pandas/core/indexes/base.py:3805\u001b[0m, in \u001b[0;36mIndex.get_loc\u001b[0;34m(self, key)\u001b[0m\n\u001b[1;32m   3804\u001b[0m \u001b[38;5;28;01mtry\u001b[39;00m:\n\u001b[0;32m-> 3805\u001b[0m     \u001b[38;5;28;01mreturn\u001b[39;00m \u001b[38;5;28;43mself\u001b[39;49m\u001b[38;5;241;43m.\u001b[39;49m\u001b[43m_engine\u001b[49m\u001b[38;5;241;43m.\u001b[39;49m\u001b[43mget_loc\u001b[49m\u001b[43m(\u001b[49m\u001b[43mcasted_key\u001b[49m\u001b[43m)\u001b[49m\n\u001b[1;32m   3806\u001b[0m \u001b[38;5;28;01mexcept\u001b[39;00m \u001b[38;5;167;01mKeyError\u001b[39;00m \u001b[38;5;28;01mas\u001b[39;00m err:\n",
      "File \u001b[0;32mindex.pyx:167\u001b[0m, in \u001b[0;36mpandas._libs.index.IndexEngine.get_loc\u001b[0;34m()\u001b[0m\n",
      "File \u001b[0;32mindex.pyx:196\u001b[0m, in \u001b[0;36mpandas._libs.index.IndexEngine.get_loc\u001b[0;34m()\u001b[0m\n",
      "File \u001b[0;32mpandas/_libs/hashtable_class_helper.pxi:7081\u001b[0m, in \u001b[0;36mpandas._libs.hashtable.PyObjectHashTable.get_item\u001b[0;34m()\u001b[0m\n",
      "File \u001b[0;32mpandas/_libs/hashtable_class_helper.pxi:7089\u001b[0m, in \u001b[0;36mpandas._libs.hashtable.PyObjectHashTable.get_item\u001b[0;34m()\u001b[0m\n",
      "\u001b[0;31mKeyError\u001b[0m: 'Date'",
      "\nThe above exception was the direct cause of the following exception:\n",
      "\u001b[0;31mKeyError\u001b[0m                                  Traceback (most recent call last)",
      "Cell \u001b[0;32mIn[7], line 36\u001b[0m\n\u001b[1;32m     34\u001b[0m \u001b[38;5;28;01mfor\u001b[39;00m ticker \u001b[38;5;129;01min\u001b[39;00m tickers:\n\u001b[1;32m     35\u001b[0m     cleaned_file \u001b[38;5;241m=\u001b[39m \u001b[38;5;124mf\u001b[39m\u001b[38;5;124m'\u001b[39m\u001b[38;5;132;01m{\u001b[39;00mticker\u001b[38;5;132;01m}\u001b[39;00m\u001b[38;5;124m_stock_cleaned.csv\u001b[39m\u001b[38;5;124m'\u001b[39m\n\u001b[0;32m---> 36\u001b[0m     \u001b[43mcheck_stationarity\u001b[49m\u001b[43m(\u001b[49m\u001b[43mcleaned_file\u001b[49m\u001b[43m)\u001b[49m\n",
      "Cell \u001b[0;32mIn[7], line 10\u001b[0m, in \u001b[0;36mcheck_stationarity\u001b[0;34m(file_path)\u001b[0m\n\u001b[1;32m      7\u001b[0m df \u001b[38;5;241m=\u001b[39m pd\u001b[38;5;241m.\u001b[39mread_csv(file_path)\n\u001b[1;32m      9\u001b[0m \u001b[38;5;66;03m# Ensure 'Date' is a datetime object and sort by date\u001b[39;00m\n\u001b[0;32m---> 10\u001b[0m df[\u001b[38;5;124m'\u001b[39m\u001b[38;5;124mDate\u001b[39m\u001b[38;5;124m'\u001b[39m] \u001b[38;5;241m=\u001b[39m pd\u001b[38;5;241m.\u001b[39mto_datetime(\u001b[43mdf\u001b[49m\u001b[43m[\u001b[49m\u001b[38;5;124;43m'\u001b[39;49m\u001b[38;5;124;43mDate\u001b[39;49m\u001b[38;5;124;43m'\u001b[39;49m\u001b[43m]\u001b[49m)\n\u001b[1;32m     11\u001b[0m df \u001b[38;5;241m=\u001b[39m df\u001b[38;5;241m.\u001b[39msort_values(\u001b[38;5;124m'\u001b[39m\u001b[38;5;124mDate\u001b[39m\u001b[38;5;124m'\u001b[39m)\n\u001b[1;32m     13\u001b[0m \u001b[38;5;66;03m# Focus on the 'Close' column for stationarity check\u001b[39;00m\n",
      "File \u001b[0;32m~/Desktop/CollegeStuff/MahindraUniversity/4 - 1/ComputationalSequenceModelling/Assigments/csmass_env/lib/python3.12/site-packages/pandas/core/frame.py:4102\u001b[0m, in \u001b[0;36mDataFrame.__getitem__\u001b[0;34m(self, key)\u001b[0m\n\u001b[1;32m   4100\u001b[0m \u001b[38;5;28;01mif\u001b[39;00m \u001b[38;5;28mself\u001b[39m\u001b[38;5;241m.\u001b[39mcolumns\u001b[38;5;241m.\u001b[39mnlevels \u001b[38;5;241m>\u001b[39m \u001b[38;5;241m1\u001b[39m:\n\u001b[1;32m   4101\u001b[0m     \u001b[38;5;28;01mreturn\u001b[39;00m \u001b[38;5;28mself\u001b[39m\u001b[38;5;241m.\u001b[39m_getitem_multilevel(key)\n\u001b[0;32m-> 4102\u001b[0m indexer \u001b[38;5;241m=\u001b[39m \u001b[38;5;28;43mself\u001b[39;49m\u001b[38;5;241;43m.\u001b[39;49m\u001b[43mcolumns\u001b[49m\u001b[38;5;241;43m.\u001b[39;49m\u001b[43mget_loc\u001b[49m\u001b[43m(\u001b[49m\u001b[43mkey\u001b[49m\u001b[43m)\u001b[49m\n\u001b[1;32m   4103\u001b[0m \u001b[38;5;28;01mif\u001b[39;00m is_integer(indexer):\n\u001b[1;32m   4104\u001b[0m     indexer \u001b[38;5;241m=\u001b[39m [indexer]\n",
      "File \u001b[0;32m~/Desktop/CollegeStuff/MahindraUniversity/4 - 1/ComputationalSequenceModelling/Assigments/csmass_env/lib/python3.12/site-packages/pandas/core/indexes/base.py:3812\u001b[0m, in \u001b[0;36mIndex.get_loc\u001b[0;34m(self, key)\u001b[0m\n\u001b[1;32m   3807\u001b[0m     \u001b[38;5;28;01mif\u001b[39;00m \u001b[38;5;28misinstance\u001b[39m(casted_key, \u001b[38;5;28mslice\u001b[39m) \u001b[38;5;129;01mor\u001b[39;00m (\n\u001b[1;32m   3808\u001b[0m         \u001b[38;5;28misinstance\u001b[39m(casted_key, abc\u001b[38;5;241m.\u001b[39mIterable)\n\u001b[1;32m   3809\u001b[0m         \u001b[38;5;129;01mand\u001b[39;00m \u001b[38;5;28many\u001b[39m(\u001b[38;5;28misinstance\u001b[39m(x, \u001b[38;5;28mslice\u001b[39m) \u001b[38;5;28;01mfor\u001b[39;00m x \u001b[38;5;129;01min\u001b[39;00m casted_key)\n\u001b[1;32m   3810\u001b[0m     ):\n\u001b[1;32m   3811\u001b[0m         \u001b[38;5;28;01mraise\u001b[39;00m InvalidIndexError(key)\n\u001b[0;32m-> 3812\u001b[0m     \u001b[38;5;28;01mraise\u001b[39;00m \u001b[38;5;167;01mKeyError\u001b[39;00m(key) \u001b[38;5;28;01mfrom\u001b[39;00m \u001b[38;5;21;01merr\u001b[39;00m\n\u001b[1;32m   3813\u001b[0m \u001b[38;5;28;01mexcept\u001b[39;00m \u001b[38;5;167;01mTypeError\u001b[39;00m:\n\u001b[1;32m   3814\u001b[0m     \u001b[38;5;66;03m# If we have a listlike key, _check_indexing_error will raise\u001b[39;00m\n\u001b[1;32m   3815\u001b[0m     \u001b[38;5;66;03m#  InvalidIndexError. Otherwise we fall through and re-raise\u001b[39;00m\n\u001b[1;32m   3816\u001b[0m     \u001b[38;5;66;03m#  the TypeError.\u001b[39;00m\n\u001b[1;32m   3817\u001b[0m     \u001b[38;5;28mself\u001b[39m\u001b[38;5;241m.\u001b[39m_check_indexing_error(key)\n",
      "\u001b[0;31mKeyError\u001b[0m: 'Date'"
     ]
    }
   ],
   "source": [
    "import pandas as pd\n",
    "from statsmodels.tsa.stattools import adfuller\n",
    "\n",
    "# Function to check stationarity using the Augmented Dickey-Fuller test\n",
    "def check_stationarity(file_path):\n",
    "    # Load the dataset\n",
    "    df = pd.read_csv(file_path)\n",
    "    \n",
    "    # Ensure 'Date' is a datetime object and sort by date\n",
    "    df['Date'] = pd.to_datetime(df['Date'])\n",
    "    df = df.sort_values('Date')\n",
    "    \n",
    "    # Focus on the 'Close' column for stationarity check\n",
    "    close_prices = df['Close']\n",
    "    \n",
    "    # Perform Augmented Dickey-Fuller Test\n",
    "    adf_result = adfuller(close_prices)\n",
    "    \n",
    "    # Print the results\n",
    "    print(f\"Results of ADF Test for {file_path.split('_')[0]}:\")\n",
    "    print(f\"ADF Statistic: {adf_result[0]}\")\n",
    "    print(f\"p-value: {adf_result[1]}\")\n",
    "    print(f\"Critical Values: {adf_result[4]}\")\n",
    "    \n",
    "    # Interpret the p-value\n",
    "    if adf_result[1] <= 0.05:\n",
    "        print(\"The time series is stationary (reject the null hypothesis).\")\n",
    "    else:\n",
    "        print(\"The time series is non-stationary (fail to reject the null hypothesis).\")\n",
    "    print(\"\\n\")\n",
    "\n",
    "# Iterate through the cleaned stock files and check stationarity\n",
    "tickers = ['IBM', 'AAPL', 'META', 'GOOGL']\n",
    "for ticker in tickers:\n",
    "    cleaned_file = f'{ticker}_stock_cleaned.csv'\n",
    "    check_stationarity(cleaned_file)\n"
   ]
  },
  {
   "cell_type": "code",
   "execution_count": 8,
   "id": "9500f269-8d68-41ab-b388-637792f26676",
   "metadata": {},
   "outputs": [
    {
     "name": "stdout",
     "output_type": "stream",
     "text": [
      "        Price                Open                High                 Low  \\\n",
      "0      Ticker                 IBM                 IBM                 IBM   \n",
      "1  2014-08-01  182.12237548828125  183.07839965820312   180.5544891357422   \n",
      "2  2014-08-04     181.02294921875   181.5965576171875  180.30592346191406   \n",
      "3  2014-08-05  180.44932556152344  180.87954711914062   178.2409210205078   \n",
      "4  2014-08-06   177.2084197998047   178.6615753173828  176.32887268066406   \n",
      "\n",
      "                Close             Close.1   Volume  \n",
      "0                 IBM                 IBM      IBM  \n",
      "1  115.99971008300781   180.8317413330078  5419431  \n",
      "2  116.30021667480469  181.30018615722656  2223691  \n",
      "3  114.74250793457031  178.87188720703125  3460063  \n",
      "4  114.72406768798828   177.7915802001953  4023962  \n",
      "Index(['Price', 'Open', 'High', 'Low', 'Close', 'Close.1', 'Volume'], dtype='object')\n"
     ]
    }
   ],
   "source": [
    "df = pd.read_csv('IBM_stock_cleaned.csv')\n",
    "print(df.head())\n",
    "print(df.columns)\n"
   ]
  },
  {
   "cell_type": "code",
   "execution_count": null,
   "id": "f5b0975b-85af-4d22-9765-bd3e2e6a5437",
   "metadata": {},
   "outputs": [],
   "source": []
  }
 ],
 "metadata": {
  "kernelspec": {
   "display_name": "Python 3 (ipykernel)",
   "language": "python",
   "name": "python3"
  },
  "language_info": {
   "codemirror_mode": {
    "name": "ipython",
    "version": 3
   },
   "file_extension": ".py",
   "mimetype": "text/x-python",
   "name": "python",
   "nbconvert_exporter": "python",
   "pygments_lexer": "ipython3",
   "version": "3.12.7"
  }
 },
 "nbformat": 4,
 "nbformat_minor": 5
}
